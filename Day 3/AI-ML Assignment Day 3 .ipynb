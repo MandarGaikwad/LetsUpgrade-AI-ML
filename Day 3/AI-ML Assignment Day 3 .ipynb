{
 "cells": [
  {
   "cell_type": "markdown",
   "metadata": {},
   "source": [
    "# Question 1 :\n",
    "### Write a program to subtract two complex numbers in Python.\n"
   ]
  },
  {
   "cell_type": "code",
   "execution_count": 2,
   "metadata": {},
   "outputs": [
    {
     "name": "stdout",
     "output_type": "stream",
     "text": [
      "(5+31j)\n",
      "(6+32j)\n",
      "(-1-1j)\n"
     ]
    }
   ],
   "source": [
    "a = 5 + 31j \n",
    "b = 6 + 32j\n",
    "print(a)\n",
    "print(b)\n",
    "print(a-b)"
   ]
  },
  {
   "cell_type": "markdown",
   "metadata": {},
   "source": [
    "# Question 2 :\n",
    "### Write a program to find the fourth root of a number.\n"
   ]
  },
  {
   "cell_type": "code",
   "execution_count": 18,
   "metadata": {},
   "outputs": [
    {
     "name": "stdout",
     "output_type": "stream",
     "text": [
      "Fourth Root of  40  is :-  2.514866859365871\n"
     ]
    }
   ],
   "source": [
    "a = 40          #Input Number\n",
    "fourth_root = a**(1/4)\n",
    "print(\"Fourth Root of \",a,\" is :- \",fourth_root)"
   ]
  },
  {
   "cell_type": "markdown",
   "metadata": {},
   "source": [
    "# Question 3:\n",
    "### Write a program to swap two numbers in Python with the help of a temporary variable.\n"
   ]
  },
  {
   "cell_type": "code",
   "execution_count": 14,
   "metadata": {},
   "outputs": [
    {
     "name": "stdout",
     "output_type": "stream",
     "text": [
      "Value of a :-  6\n",
      "Value of b :-  5\n"
     ]
    }
   ],
   "source": [
    "a = 5\n",
    "b = 6\n",
    "\n",
    "c = a     # c is a temporary varible\n",
    "a = b\n",
    "b = c\n",
    "\n",
    "print(\"Value of a :- \",a)\n",
    "print(\"Value of b :- \",b)"
   ]
  },
  {
   "cell_type": "markdown",
   "metadata": {},
   "source": [
    "# Question 4:\n",
    "### Write a program to swap two numbers in Python without using a temporary variable\n"
   ]
  },
  {
   "cell_type": "code",
   "execution_count": 2,
   "metadata": {},
   "outputs": [
    {
     "name": "stdout",
     "output_type": "stream",
     "text": [
      "Value of a :-  6\n",
      "Value of b :-  5\n"
     ]
    }
   ],
   "source": [
    "#One Method\n",
    "\n",
    "a = 5\n",
    "b = 6\n",
    "\n",
    "a,b = b,a\n",
    "\n",
    "print(\"Value of a :- \",a)\n",
    "print(\"Value of b :- \",b)"
   ]
  },
  {
   "cell_type": "code",
   "execution_count": 3,
   "metadata": {},
   "outputs": [
    {
     "name": "stdout",
     "output_type": "stream",
     "text": [
      "Value of a :- 20\n",
      "Value of b :- 12\n"
     ]
    }
   ],
   "source": [
    "a = 12\n",
    "b = 20\n",
    "\n",
    "a = a+b\n",
    "b = a-b\n",
    "a = a-b\n",
    "\n",
    "print(\"Value of a :-\",a)\n",
    "print(\"Value of b :-\",b)"
   ]
  },
  {
   "cell_type": "markdown",
   "metadata": {},
   "source": [
    "# Question 5:\n",
    "### Write a program to convert fahrenheit to kelvin and celsius both.\n"
   ]
  },
  {
   "cell_type": "code",
   "execution_count": 6,
   "metadata": {},
   "outputs": [
    {
     "name": "stdout",
     "output_type": "stream",
     "text": [
      "50  Farhrenheit in Celius is :- 10.0\n",
      "50  Farhrenheit in Kelvin is :- 283.15\n"
     ]
    }
   ],
   "source": [
    "fahrenheit = 50   # input number\n",
    "\n",
    "celsius = (fahrenheit - 32) * 5/9\n",
    "kelvin = (fahrenheit - 32) * 5/9 + 273.15\n",
    "\n",
    "print(fahrenheit,\" Farhrenheit in Celius is :-\",celsius)\n",
    "print(fahrenheit,\" Farhrenheit in Kelvin is :-\",kelvin)\n"
   ]
  },
  {
   "cell_type": "markdown",
   "metadata": {},
   "source": [
    "# Question 6:\n",
    "### Write a program to demonstrate all the available data types in Python. Hint: Use type() function.\n"
   ]
  },
  {
   "cell_type": "code",
   "execution_count": 17,
   "metadata": {},
   "outputs": [
    {
     "name": "stdout",
     "output_type": "stream",
     "text": [
      "Type of a is :-  <class 'int'>\n",
      "Type of b is :-  <class 'float'>\n",
      "Type of c is :-  <class 'str'>\n",
      "Type of d is :-  <class 'complex'>\n",
      "Type of e is :-  <class 'set'>\n",
      "Type of f is :-  <class 'list'>\n",
      "Type of g is :-  <class 'tuple'>\n",
      "Type of h is :-  <class 'dict'>\n"
     ]
    }
   ],
   "source": [
    "a = 5\n",
    "b = 10.2\n",
    "c = \"Mandar\"\n",
    "d = 3 + 35j\n",
    "e = {5,2,3}\n",
    "f = [2,3,5]\n",
    "g = (5,6,8)\n",
    "h = {\"a\" : 5,\"b\" : \"Mandar\"}\n",
    "\n",
    "print(\"Type of a is :- \",type(a))\n",
    "print(\"Type of b is :- \",type(b))\n",
    "print(\"Type of c is :- \",type(c))\n",
    "print(\"Type of d is :- \",type(d))\n",
    "print(\"Type of e is :- \",type(e))\n",
    "print(\"Type of f is :- \",type(f))\n",
    "print(\"Type of g is :- \",type(g))\n",
    "print(\"Type of h is :- \",type(h))"
   ]
  },
  {
   "cell_type": "markdown",
   "metadata": {},
   "source": [
    "# Question 7:\n",
    "### Create a Markdown cell in jupyter and list the steps discussed in the session by Dr. Darshan Ingle sir to create Github profile and upload Githubs Assignment link."
   ]
  },
  {
   "cell_type": "markdown",
   "metadata": {},
   "source": [
    "## step 1\n",
    "Open Github.com and create your github account using mail id\n",
    "\n",
    "## step 2\n",
    "Now open your profile and create a new repository named \"LetsUpgrade AI/ML\"\n",
    "keep the repository public\n",
    "\n",
    "## step  3\n",
    "Now click on \"uploading existing file\" and drag and drop ur assignment folder on Github.\n",
    "\n",
    "## step 4\n",
    "Now after completing upload click on \"Commit changes\"\n",
    "\n",
    "## step 5\n",
    "Copy the url of the page and paste it on \"Assignment submission link\" provided by LetsUpgrade\n",
    "and submit ur Assignment"
   ]
  },
  {
   "cell_type": "code",
   "execution_count": null,
   "metadata": {},
   "outputs": [],
   "source": []
  }
 ],
 "metadata": {
  "kernelspec": {
   "display_name": "Python 3",
   "language": "python",
   "name": "python3"
  },
  "language_info": {
   "codemirror_mode": {
    "name": "ipython",
    "version": 3
   },
   "file_extension": ".py",
   "mimetype": "text/x-python",
   "name": "python",
   "nbconvert_exporter": "python",
   "pygments_lexer": "ipython3",
   "version": "3.7.4"
  }
 },
 "nbformat": 4,
 "nbformat_minor": 2
}
