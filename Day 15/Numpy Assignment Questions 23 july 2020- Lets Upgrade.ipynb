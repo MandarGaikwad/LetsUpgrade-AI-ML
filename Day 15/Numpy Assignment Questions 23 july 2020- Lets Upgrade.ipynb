{
 "cells": [
  {
   "cell_type": "markdown",
   "metadata": {},
   "source": [
    "# 1. Create a 3x3x3 array with random values "
   ]
  },
  {
   "cell_type": "code",
   "execution_count": 6,
   "metadata": {},
   "outputs": [
    {
     "name": "stdout",
     "output_type": "stream",
     "text": [
      "[2.50210659 1.90990581 2.33482428]\n"
     ]
    }
   ],
   "source": [
    "import numpy as np\n",
    "a = np.random.uniform((3,3,3))\n",
    "print(a)"
   ]
  },
  {
   "cell_type": "markdown",
   "metadata": {},
   "source": [
    "# 2.Create a 5x5 matrix with values 1,2,3,4 just below the diagonal"
   ]
  },
  {
   "cell_type": "code",
   "execution_count": 8,
   "metadata": {},
   "outputs": [
    {
     "name": "stdout",
     "output_type": "stream",
     "text": [
      "[[0 0 0 0 0]\n",
      " [1 0 0 0 0]\n",
      " [0 2 0 0 0]\n",
      " [0 0 3 0 0]\n",
      " [0 0 0 4 0]]\n"
     ]
    }
   ],
   "source": [
    "b = np.diag(1+np.arange(4),k=-1)\n",
    "print(b)"
   ]
  },
  {
   "cell_type": "markdown",
   "metadata": {},
   "source": [
    "# 3.Create a 8x8 matrix and fill it with a checkerboard pattern"
   ]
  },
  {
   "cell_type": "code",
   "execution_count": 10,
   "metadata": {},
   "outputs": [
    {
     "name": "stdout",
     "output_type": "stream",
     "text": [
      "[[0 1 0 1 0 1 0 1]\n",
      " [1 0 1 0 1 0 1 0]\n",
      " [0 1 0 1 0 1 0 1]\n",
      " [1 0 1 0 1 0 1 0]\n",
      " [0 1 0 1 0 1 0 1]\n",
      " [1 0 1 0 1 0 1 0]\n",
      " [0 1 0 1 0 1 0 1]\n",
      " [1 0 1 0 1 0 1 0]]\n"
     ]
    }
   ],
   "source": [
    "c = np.zeros((8,8),dtype=int)\n",
    "c[1::2 , ::2] = 1\n",
    "c[::2 , 1::2] = 1\n",
    "print(c)"
   ]
  },
  {
   "cell_type": "markdown",
   "metadata": {},
   "source": [
    "# 4. Normalize a 5x5 random matrix"
   ]
  },
  {
   "cell_type": "code",
   "execution_count": 13,
   "metadata": {},
   "outputs": [
    {
     "name": "stdout",
     "output_type": "stream",
     "text": [
      "[[0.022166   0.68000214 0.         0.81071015 0.53843487]\n",
      " [0.66608225 0.81623263 0.08461412 0.82463767 0.75629329]\n",
      " [0.36840592 0.49796497 0.84001585 0.36512621 0.55967508]\n",
      " [0.37285334 0.85068566 0.60018667 1.         0.98592077]\n",
      " [0.16327482 0.80284329 0.44834273 0.70216039 0.74822211]]\n"
     ]
    }
   ],
   "source": [
    "d = np.random.random((5,5))\n",
    "dmax,dmin = d.max(),d.min()\n",
    "d = (d-dmin)/(dmax-dmin)\n",
    "print(d)"
   ]
  },
  {
   "cell_type": "markdown",
   "metadata": {},
   "source": [
    "# 5.  How to find common values between two arrays?"
   ]
  },
  {
   "cell_type": "code",
   "execution_count": 1,
   "metadata": {},
   "outputs": [
    {
     "name": "stdout",
     "output_type": "stream",
     "text": [
      "Array1 is :  [1 2 3 4 5 6]\n",
      "Array2 is :  [5, 6, 7, 8, 9]\n",
      "Common values between two arrays are :\n",
      "[5 6]\n"
     ]
    }
   ],
   "source": [
    "import numpy as np\n",
    "array1 = np.array([1, 2, 3 , 4, 5, 6])\n",
    "print(\"Array1 is : \",array1)\n",
    "array2 = [5,6,7,8,9]\n",
    "print(\"Array2 is : \",array2)\n",
    "print(\"Common values between two arrays are :\")\n",
    "print(np.intersect1d(array1, array2))"
   ]
  },
  {
   "cell_type": "markdown",
   "metadata": {},
   "source": [
    "# 6.How to get the dates of yesterday, today and tomorrow?"
   ]
  },
  {
   "cell_type": "code",
   "execution_count": 2,
   "metadata": {},
   "outputs": [
    {
     "name": "stdout",
     "output_type": "stream",
     "text": [
      "Yestraday's date is :  2020-07-27\n",
      "Today's date is :  2020-07-28\n",
      "Tomorrow's date is :  2020-07-29\n"
     ]
    }
   ],
   "source": [
    "yesterday = np.datetime64('today', 'D') - np.timedelta64(1, 'D')\n",
    "print(\"Yestraday's date is : \",yesterday)\n",
    "today     = np.datetime64('today', 'D')\n",
    "print(\"Today's date is : \",today)\n",
    "tomorrow  = np.datetime64('today', 'D') + np.timedelta64(1, 'D')\n",
    "print(\"Tomorrow's date is : \",tomorrow)"
   ]
  },
  {
   "cell_type": "markdown",
   "metadata": {},
   "source": [
    "# 7. Consider two random array A and B, check if they are equal"
   ]
  },
  {
   "cell_type": "code",
   "execution_count": 22,
   "metadata": {},
   "outputs": [
    {
     "name": "stdout",
     "output_type": "stream",
     "text": [
      "[1 1 0 0 1]\n",
      "[1 1 1 1 0]\n",
      "False\n"
     ]
    }
   ],
   "source": [
    "A = np.random.randint(0,2,5)\n",
    "B = np.random.randint(0,2,5)\n",
    "\n",
    "print(A)\n",
    "print(B)\n",
    "equal = np.allclose(A,B)\n",
    "print(equal)"
   ]
  },
  {
   "cell_type": "markdown",
   "metadata": {},
   "source": [
    "# 8.Create random vector of size 10 and replace the maximum value by 0 "
   ]
  },
  {
   "cell_type": "code",
   "execution_count": 3,
   "metadata": {},
   "outputs": [
    {
     "name": "stdout",
     "output_type": "stream",
     "text": [
      "Original array is :\n",
      "[0.99505024 0.34110925 0.5388899  0.25958937 0.72464723 0.53828989\n",
      " 0.51745112 0.02640986 0.50015593 0.30004054]\n",
      "Maximum value replaced by 0 : \n",
      "[0.         0.34110925 0.5388899  0.25958937 0.72464723 0.53828989\n",
      " 0.51745112 0.02640986 0.50015593 0.30004054]\n"
     ]
    }
   ],
   "source": [
    "a = np.random.random(10)\n",
    "print(\"Original array is :\")\n",
    "print(a)\n",
    "a[a.argmax()] = 0\n",
    "print(\"Maximum value replaced by 0 : \")\n",
    "print(a)"
   ]
  },
  {
   "cell_type": "markdown",
   "metadata": {},
   "source": [
    "# 9. How to print all the values of an array?"
   ]
  },
  {
   "cell_type": "code",
   "execution_count": 4,
   "metadata": {},
   "outputs": [
    {
     "name": "stdout",
     "output_type": "stream",
     "text": [
      "All values of an array are as follows \n",
      "[0 1 2 3 4 5 6 7 8 9]\n"
     ]
    }
   ],
   "source": [
    "array1 = np.arange(10)\n",
    "print(\"All values of an array are as follows \")\n",
    "print(array1)"
   ]
  },
  {
   "cell_type": "markdown",
   "metadata": {},
   "source": [
    "# 10.Subtract the mean of each row of a matrix"
   ]
  },
  {
   "cell_type": "code",
   "execution_count": 26,
   "metadata": {},
   "outputs": [
    {
     "data": {
      "text/plain": [
       "array([[-0.41184634, -0.05169548,  0.04380243,  0.29017999,  0.11901999,\n",
       "         0.22346101, -0.17030638,  0.18102875, -0.26892318,  0.04527921],\n",
       "       [-0.30459089,  0.31118029, -0.18988153,  0.37614553, -0.1678965 ,\n",
       "         0.35506636,  0.29555296, -0.1054991 , -0.12490211, -0.44517501],\n",
       "       [ 0.40403975, -0.24003935,  0.0678398 ,  0.07609439, -0.36533546,\n",
       "         0.03045546, -0.08319553, -0.26149113,  0.33522892,  0.03640315],\n",
       "       [ 0.32921551, -0.36567348,  0.24497614,  0.00719278,  0.37705482,\n",
       "        -0.52252631,  0.09962297,  0.12299996, -0.14972714, -0.14313526],\n",
       "       [-0.10652825, -0.37478213, -0.22443513,  0.1422279 ,  0.19245436,\n",
       "        -0.02995828,  0.22613599,  0.37213088,  0.10998905, -0.30723438]])"
      ]
     },
     "execution_count": 26,
     "metadata": {},
     "output_type": "execute_result"
    }
   ],
   "source": [
    "X = np.random.rand(5, 10)\n",
    "\n",
    "# Recent versions of numpy\n",
    "Y = X - X.mean(axis=1, keepdims=True)\n",
    "\n",
    "# Older versions of numpy\n",
    "Y = X - X.mean(axis=1).reshape(-1, 1)\n",
    "Y"
   ]
  },
  {
   "cell_type": "markdown",
   "metadata": {},
   "source": [
    "# 11.Consider a given vector, how to add 1 to each element indexed by a second vector (be careful with repeated indices)? "
   ]
  },
  {
   "cell_type": "code",
   "execution_count": 28,
   "metadata": {},
   "outputs": [
    {
     "name": "stdout",
     "output_type": "stream",
     "text": [
      "[4. 1. 1. 2. 2. 4. 5. 4. 3. 4.]\n"
     ]
    }
   ],
   "source": [
    "ZZ = np.ones(10)\n",
    "I = np.random.randint(0,len(ZZ),20)\n",
    "ZZ += np.bincount(I, minlength=len(ZZ))\n",
    "print(ZZ)"
   ]
  },
  {
   "cell_type": "code",
   "execution_count": null,
   "metadata": {},
   "outputs": [],
   "source": []
  },
  {
   "cell_type": "markdown",
   "metadata": {},
   "source": [
    "# 12.How to get the diagonal of a dot product?"
   ]
  },
  {
   "cell_type": "code",
   "execution_count": 29,
   "metadata": {},
   "outputs": [
    {
     "data": {
      "text/plain": [
       "array([16, 81, 14])"
      ]
     },
     "execution_count": 29,
     "metadata": {},
     "output_type": "execute_result"
    }
   ],
   "source": [
    "A = np.random.randint(0,10,(3,3))\n",
    "B= np.random.randint(0,10,(3,3))\n",
    "#Slow version\n",
    "\n",
    "np.diag(np.dot(A, B))\n",
    "\n",
    "# Fast version\n",
    "np.sum(A * B.T, axis=1)\n",
    "\n",
    "# Faster version\n",
    "np.einsum(\"ij,ji->i\", A, B)"
   ]
  },
  {
   "cell_type": "markdown",
   "metadata": {},
   "source": [
    "# 13.How to find the most frequent value in an array?"
   ]
  },
  {
   "cell_type": "code",
   "execution_count": 30,
   "metadata": {},
   "outputs": [
    {
     "name": "stdout",
     "output_type": "stream",
     "text": [
      "[6 8 5 6 7 0 3 9 3 4 7 9 7 7 7 1 9 0 9 3 4 7 2 5 7 8 6 9 6 4 1 1 6 7 4 2 8\n",
      " 1 6 3 7 2 0 9 5 5 3 9 7 0]\n",
      "rank: 7\n"
     ]
    }
   ],
   "source": [
    "Z = np.random.randint(0,10,50)\n",
    "print (Z)\n",
    "print('rank:', np.bincount(Z).argmax())"
   ]
  },
  {
   "cell_type": "markdown",
   "metadata": {},
   "source": [
    "# 14.How to get the n largest values of an array"
   ]
  },
  {
   "cell_type": "code",
   "execution_count": 20,
   "metadata": {},
   "outputs": [
    {
     "name": "stdout",
     "output_type": "stream",
     "text": [
      "[9995 9996 9997 9998 9999]\n"
     ]
    }
   ],
   "source": [
    "Z = np.arange(10000)\n",
    "np.random.shuffle(Z)\n",
    "n = 5\n",
    "\n",
    "# Slow\n",
    "print (Z[np.argsort(Z)[-n:]])\n",
    "\n",
    "# Fast\n",
    "#print (Z[np.argpartition(-Z,n)[:n]])"
   ]
  },
  {
   "cell_type": "markdown",
   "metadata": {},
   "source": [
    "# 15.How to create a record array from a regular array?"
   ]
  },
  {
   "cell_type": "code",
   "execution_count": 17,
   "metadata": {},
   "outputs": [
    {
     "name": "stdout",
     "output_type": "stream",
     "text": [
      "[['Hello' '2.5' '3']\n",
      " ['World' '3.6' '2']]\n",
      "[(b'Hello', 2.5, 3) (b'World', 3.6, 2)]\n"
     ]
    }
   ],
   "source": [
    "rec_array = np.array([(\"Hello\",2.5,3),(\"World\",3.6,2)])\n",
    "rec_array1 = np.core.records.fromarrays(rec_array.T,names=\"col1, col2, col3\",formats = \"S8, f8, i8\")\n",
    "\n",
    "#Z = np.array([(\"Hello\", 2.5, 3),(\"World\", 3.6, 2)])\n",
    "#R = np.core.records.fromarrays(Z.T,names='col1, col2, col3',formats = 'S8, f8, i8')\n",
    "print(rec_array)\n",
    "print(rec_array1)"
   ]
  },
  {
   "cell_type": "code",
   "execution_count": null,
   "metadata": {},
   "outputs": [],
   "source": []
  }
 ],
 "metadata": {
  "kernelspec": {
   "display_name": "Python 3",
   "language": "python",
   "name": "python3"
  },
  "language_info": {
   "codemirror_mode": {
    "name": "ipython",
    "version": 3
   },
   "file_extension": ".py",
   "mimetype": "text/x-python",
   "name": "python",
   "nbconvert_exporter": "python",
   "pygments_lexer": "ipython3",
   "version": "3.7.4"
  }
 },
 "nbformat": 4,
 "nbformat_minor": 2
}
