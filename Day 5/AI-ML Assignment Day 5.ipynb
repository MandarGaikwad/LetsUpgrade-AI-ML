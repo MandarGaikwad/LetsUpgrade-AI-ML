{
 "cells": [
  {
   "cell_type": "markdown",
   "metadata": {},
   "source": [
    "# Question 1 :\n",
    "### Write a Python program to find the first 20 non-even prime natural numbers.\n"
   ]
  },
  {
   "cell_type": "code",
   "execution_count": 52,
   "metadata": {},
   "outputs": [
    {
     "name": "stdout",
     "output_type": "stream",
     "text": [
      "Provide range :\n",
      "Enter starting no:50\n",
      "Enter ending no:100\n",
      "51 53 55 57 59 61 63 65 67 69 71 73 75 77 79 81 83 85 87 89 91 93 95 97 99 "
     ]
    }
   ],
   "source": [
    "print(\"Provide range :\")\n",
    "\n",
    "a = int(input(\"Enter starting no:\"))\n",
    "b = int(input(\"Enter ending no:\"))\n",
    "\n",
    "\n",
    "for i in range(a,b):\n",
    "    if i > 1:\n",
    "        for k in range(1,i):\n",
    "            if i%2==0:\n",
    "                break\n",
    "        else:\n",
    "            print(i,end=\" \")"
   ]
  },
  {
   "cell_type": "markdown",
   "metadata": {},
   "source": [
    "# Question 2 :\n",
    "### Write a Python program to implement 15 functions of string.\n"
   ]
  },
  {
   "cell_type": "code",
   "execution_count": 70,
   "metadata": {},
   "outputs": [
    {
     "name": "stdout",
     "output_type": "stream",
     "text": [
      "Enter a nameHey letUpgraderrs How R u Guys doin?\n",
      "You Entered :-  Hey letUpgraderrs How R u Guys doin?\n",
      " \n",
      "Hey letupgraderrs how r u guys doin?\n",
      "hey letupgraderrs how r u guys doin?\n",
      "1\n",
      "False\n",
      "False\n",
      "True\n",
      "False\n",
      "False\n",
      "False\n",
      "False\n",
      "False\n",
      "True\n",
      "False\n",
      "hey letupgraderrs how r u guys doin?\n",
      "HEY LETUPGRADERRS HOW R U GUYS DOIN?\n"
     ]
    }
   ],
   "source": [
    "string = input(\"Enter a name\")\n",
    "\n",
    "print(\"You Entered :- \",string)\n",
    "print(\" \")\n",
    "print(string.capitalize())\n",
    "print(string.casefold())\n",
    "print(string.count(\"a\"))\n",
    "print(string.isalnum())\n",
    "print(string.isalpha())\n",
    "print(string.isascii())\n",
    "print(string.isdecimal())\n",
    "print(string.isdigit())\n",
    "print(string.isidentifier())\n",
    "print(string.islower())\n",
    "print(string.isnumeric())\n",
    "print(string.isprintable())\n",
    "print(string.isspace())\n",
    "print(string.lower())\n",
    "print(string.upper())\n",
    "\n"
   ]
  },
  {
   "cell_type": "markdown",
   "metadata": {},
   "source": [
    "# Question 3:\n",
    "### Write a Python program to check if the given string is a Palindrome or Anagram or None of them.Display the message accordingly to the user."
   ]
  },
  {
   "cell_type": "code",
   "execution_count": 23,
   "metadata": {},
   "outputs": [
    {
     "name": "stdout",
     "output_type": "stream",
     "text": [
      "Enter Your Word to check:- kjv\n",
      "None of the Above\n"
     ]
    }
   ],
   "source": [
    "a = input(\"Enter Your Word to check:- \")\n",
    "b = \"Manrad\"\n",
    "if a[0:]== a[::-1]:\n",
    "    print(\"String is Palindrome\")\n",
    "elif sorted(a)==sorted(b):\n",
    "    print(\"String is anagram\")\n",
    "else:\n",
    "    print(\"None of the Above\")\n"
   ]
  },
  {
   "cell_type": "markdown",
   "metadata": {},
   "source": [
    "# Question 4:\n",
    "### Write a Python's user defined function that removes all the additional characters from the string and converts it finally to lower case using built-in lower(). eg: If the string is \"Dr. Darshan Ingle@AI-ML Trainer\", then the output be \"drdarshaningleaimltrainer\"."
   ]
  },
  {
   "cell_type": "code",
   "execution_count": 57,
   "metadata": {},
   "outputs": [
    {
     "name": "stdout",
     "output_type": "stream",
     "text": [
      "drdarshaningleaimltrainer\n"
     ]
    }
   ],
   "source": [
    "def myfun(a = \"Dr. Darshan Ingle@AI-ML Trainer\"):\n",
    "    first = a.replace(\" \",\"\")\n",
    "    second = first.replace(\"@\",\"\")\n",
    "    third = second.replace(\"-\",\"\")\n",
    "    f = third.replace(\".\",\"\")\n",
    "    \n",
    "    print(f)\n",
    "\n",
    "myfun(a.lower())"
   ]
  },
  {
   "cell_type": "code",
   "execution_count": null,
   "metadata": {},
   "outputs": [],
   "source": []
  }
 ],
 "metadata": {
  "kernelspec": {
   "display_name": "Python 3",
   "language": "python",
   "name": "python3"
  },
  "language_info": {
   "codemirror_mode": {
    "name": "ipython",
    "version": 3
   },
   "file_extension": ".py",
   "mimetype": "text/x-python",
   "name": "python",
   "nbconvert_exporter": "python",
   "pygments_lexer": "ipython3",
   "version": "3.7.4"
  }
 },
 "nbformat": 4,
 "nbformat_minor": 2
}
