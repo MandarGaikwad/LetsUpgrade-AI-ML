{
 "cells": [
  {
   "cell_type": "markdown",
   "metadata": {},
   "source": [
    "# Question 1:\n",
    "### Assuming that we have some email addresses in the \"username@companyname.com\" format, please write program to print the company name of a given email address. Both user names and company names are composed of letters only.\n",
    "\n",
    "Input Format:\n",
    "The first line of the input contains an email address.\n",
    "\n",
    "Output Format:\n",
    " Print the company name in single line.\n",
    "Example;\n",
    " Input:\n",
    " john@google.com\n",
    " Output:\n",
    " google\n"
   ]
  },
  {
   "cell_type": "code",
   "execution_count": 116,
   "metadata": {},
   "outputs": [
    {
     "name": "stdout",
     "output_type": "stream",
     "text": [
      "Enter EMail addresss :- john@google.com\n",
      "The Resut is:-\n",
      " google\n"
     ]
    }
   ],
   "source": [
    "# print(input().split(\"@\")[1].split(\".\")[0])\n",
    "\n",
    "email = input(\"Enter EMail addresss :- \")\n",
    "a = email.split(\"@\")\n",
    "#print(a)\n",
    "#print(a[1])\n",
    "\n",
    "\n",
    "b = a[1].split(\".\")\n",
    "#print(b) \n",
    "print(\"The Resut is:-\\n\" ,b[0])"
   ]
  },
  {
   "cell_type": "markdown",
   "metadata": {},
   "source": [
    "# Question 2:\n",
    "Write a program that accepts a comma-separated sequence of words as input and prints the words in a comma\n",
    "separated sequence after sorting them alphabetically.\n",
    "\n",
    "Input Format:\n",
    "The first line of input contains words separated by the comma.\n",
    "\n",
    "Output Format:\n",
    "Print the sorted words separated by the comma.\n",
    "\n",
    "Example:\n",
    "Input:\n",
    "without,hello,bag,world\n",
    "\n",
    "Output:\n",
    "bag,hello,without,world"
   ]
  },
  {
   "cell_type": "code",
   "execution_count": 1,
   "metadata": {},
   "outputs": [
    {
     "name": "stdout",
     "output_type": "stream",
     "text": [
      "Enter the data : without,hello,bag,world\n",
      "The sorted data is :  bag,hello,without,world\n"
     ]
    }
   ],
   "source": [
    "\"\"\"a = input()\n",
    "b = a.split()\n",
    "b.sort()\n",
    "print(b)\n",
    "\"\"\"\n",
    "i = [x for x in input(\"Enter the data : \").split(',')]\n",
    "i.sort()\n",
    "print(\"The sorted data is : \",','.join(i))"
   ]
  },
  {
   "cell_type": "markdown",
   "metadata": {},
   "source": [
    "# Question 3:\n",
    "## Create your own Jupyter Notebook for Sets.\n",
    "## Reference link: https://www.w3schools.com/python/python_sets.asp"
   ]
  },
  {
   "cell_type": "code",
   "execution_count": 2,
   "metadata": {},
   "outputs": [
    {
     "name": "stdout",
     "output_type": "stream",
     "text": [
      "{'zebra', 'football', 'hockey', 'badminton', 'cricket'}\n"
     ]
    }
   ],
   "source": [
    "#A set is a collection which is unordered and unindexed. In Python sets are written with curly brackets.\n",
    "#simple creation of set\n",
    "thisset = {\"cricket\", \"badminton\", \"hockey\", \"football\",\"zebra\"}\n",
    "print(thisset)"
   ]
  },
  {
   "cell_type": "code",
   "execution_count": 3,
   "metadata": {},
   "outputs": [
    {
     "name": "stdout",
     "output_type": "stream",
     "text": [
      "zebra\n",
      "football\n",
      "hockey\n",
      "badminton\n",
      "cricket\n"
     ]
    }
   ],
   "source": [
    "#access items\n",
    "thisset = {\"cricket\", \"badminton\", \"hockey\", \"football\",\"zebra\"}\n",
    "for x in thisset:\n",
    "    print(x)"
   ]
  },
  {
   "cell_type": "code",
   "execution_count": 4,
   "metadata": {},
   "outputs": [
    {
     "name": "stdout",
     "output_type": "stream",
     "text": [
      "True\n"
     ]
    }
   ],
   "source": [
    "#check items\n",
    "thisset = {\"cricket\", \"badminton\", \"hockey\", \"football\",\"zebra\"}\n",
    "print(\"hockey\" in thisset)"
   ]
  },
  {
   "cell_type": "code",
   "execution_count": 5,
   "metadata": {},
   "outputs": [
    {
     "name": "stdout",
     "output_type": "stream",
     "text": [
      "{'swimmimg', 'zebra', 'football', 'hockey', 'badminton', 'cricket'}\n"
     ]
    }
   ],
   "source": [
    "#add items\n",
    "thisset = {\"cricket\", \"badminton\", \"hockey\", \"football\",\"zebra\"}\n",
    "thisset.add(\"swimmimg\")\n",
    "print(thisset)"
   ]
  },
  {
   "cell_type": "code",
   "execution_count": 6,
   "metadata": {},
   "outputs": [
    {
     "name": "stdout",
     "output_type": "stream",
     "text": [
      "{'swimmimg', 'chess', 'zebra', 'football', 'cycling', 'hockey', 'running', 'badminton', 'cricket'}\n"
     ]
    }
   ],
   "source": [
    "#add multiple items\n",
    "thisset = {\"cricket\", \"badminton\", \"hockey\", \"football\",\"zebra\",'swimmimg'}\n",
    "thisset.update([\"cycling\",'running',\"chess\"])\n",
    "print(thisset)"
   ]
  },
  {
   "cell_type": "code",
   "execution_count": 7,
   "metadata": {},
   "outputs": [
    {
     "data": {
      "text/plain": [
       "9"
      ]
     },
     "execution_count": 7,
     "metadata": {},
     "output_type": "execute_result"
    }
   ],
   "source": [
    "#lenght of set \n",
    "thisset = {'cycling', 'chess', 'hockey', 'badminton', 'running', 'football', 'cricket', 'zebra', 'swimmimg'}\n",
    "len(thisset)"
   ]
  },
  {
   "cell_type": "code",
   "execution_count": 8,
   "metadata": {},
   "outputs": [
    {
     "name": "stdout",
     "output_type": "stream",
     "text": [
      "{'swimmimg', 'football', 'zebra', 'cycling', 'hockey', 'running', 'badminton', 'cricket'}\n"
     ]
    }
   ],
   "source": [
    "#remove item\n",
    "thisset = {'cycling', 'chess', 'hockey', 'badminton', 'running', 'football', 'cricket', 'zebra', 'swimmimg'}\n",
    "thisset.remove('chess')\n",
    "print(thisset)"
   ]
  },
  {
   "cell_type": "code",
   "execution_count": 9,
   "metadata": {},
   "outputs": [
    {
     "name": "stdout",
     "output_type": "stream",
     "text": [
      "{'swimmimg', 'football', 'zebra', 'cycling', 'running', 'badminton', 'cricket'}\n"
     ]
    }
   ],
   "source": [
    "#discard item\n",
    "thisset = {'cycling','hockey', 'badminton', 'running', 'football', 'cricket', 'zebra', 'swimmimg'}\n",
    "thisset.discard('hockey')\n",
    "print(thisset)"
   ]
  },
  {
   "cell_type": "code",
   "execution_count": 10,
   "metadata": {},
   "outputs": [
    {
     "name": "stdout",
     "output_type": "stream",
     "text": [
      "swimmimg\n",
      "{'football', 'zebra', 'cycling', 'running', 'badminton', 'cricket'}\n"
     ]
    }
   ],
   "source": [
    "#pop method\n",
    "thisset = {'cycling', 'running', 'badminton', 'football', 'cricket', 'zebra', 'swimmimg'}\n",
    "x = thisset.pop()\n",
    "print(x)\n",
    "print(thisset)"
   ]
  },
  {
   "cell_type": "code",
   "execution_count": 11,
   "metadata": {},
   "outputs": [
    {
     "name": "stdout",
     "output_type": "stream",
     "text": [
      "set()\n"
     ]
    }
   ],
   "source": [
    "#clear method\n",
    "thisset = {'running', 'badminton', 'football', 'cricket', 'zebra', 'swimmimg'}\n",
    "thisset.clear()\n",
    "print(thisset)"
   ]
  },
  {
   "cell_type": "code",
   "execution_count": 12,
   "metadata": {},
   "outputs": [
    {
     "name": "stdout",
     "output_type": "stream",
     "text": [
      "{'x', 'b', 'y', 'z', 'a', 'c'}\n"
     ]
    }
   ],
   "source": [
    "#join two sets\n",
    "#union method\n",
    "set1 = {\"x\", \"y\" , \"z\"}\n",
    "set2 = {\"a\",\"b\",\"c\"}\n",
    "\n",
    "set3 = set1.union(set2)\n",
    "print(set3)\n"
   ]
  },
  {
   "cell_type": "code",
   "execution_count": 13,
   "metadata": {},
   "outputs": [
    {
     "name": "stdout",
     "output_type": "stream",
     "text": [
      "{1, 2, 3, 8, 9, 10}\n"
     ]
    }
   ],
   "source": [
    "#update\n",
    "set1 = {8, 9, 10}\n",
    "set2 = {1, 2, 3}\n",
    "\n",
    "set1.update(set2)\n",
    "print(set1)\n"
   ]
  },
  {
   "cell_type": "markdown",
   "metadata": {},
   "source": [
    "# Question 4:\n",
    "## Given a list of n-1 numbers ranging from 1 to n, your task is to find the missing number. There are no duplicates.\n",
    "\n",
    "Input Format:\n",
    "The first line contains n-1 numbers with each number separated by a space.\n",
    "\n",
    "Output Format:\n",
    "Print the missing number\n",
    "\n",
    "Example:\n",
    "Input:1 2 4 6 3 7 8\n",
    "\n",
    "Output:5\n",
    "\n",
    "Explanation:\n",
    "In the above list of numbers 5 is missing and hence 5 is the input\n"
   ]
  },
  {
   "cell_type": "code",
   "execution_count": 14,
   "metadata": {},
   "outputs": [
    {
     "name": "stdout",
     "output_type": "stream",
     "text": [
      "[11, 13, 14, 16, 17, 18, 19, 22, 23]\n"
     ]
    }
   ],
   "source": [
    "def find_missing_no(lst):\n",
    "    return [x for x in range(lst[0], lst[-1]+1) if x not in lst]\n",
    "\n",
    "lst = [10,20,12,15,21,26,24]\n",
    "print(find_missing_no(lst))"
   ]
  },
  {
   "cell_type": "markdown",
   "metadata": {},
   "source": [
    "### Question 5:\n",
    "### With a given list L, write a program to print this list L after removing all duplicate values with original order reserved.\n",
    "### Example:\n",
    "### If the input list is\n",
    "### 12 24 35 24 88 120 155 88 120 155\n",
    "### Then the output should be\n",
    "### 12 24 35 88 120 155\n",
    "### Explanation:\n",
    "### Third, seventh and ninth element of the list L has been removed because it was already present.\n",
    "### Input Format:\n",
    "### In one line take the elements of the list L with each element separated by a space.\n",
    "### Output Format:\n",
    "### Print the elements of the modified list in one line with each element separated by a space.\n",
    "### Example:\n",
    "### Input: 12 24 35 24\n",
    "### Output:\n",
    "### 12 24 35"
   ]
  },
  {
   "cell_type": "code",
   "execution_count": 15,
   "metadata": {},
   "outputs": [
    {
     "name": "stdout",
     "output_type": "stream",
     "text": [
      "[12, 24, 35]\n"
     ]
    }
   ],
   "source": [
    "def remove(dupli):\n",
    "    lst = []\n",
    "    for num in dupli:\n",
    "        if num not in lst:\n",
    "            lst.append(num)\n",
    "    return lst\n",
    "\n",
    "dupli = [12,24,35,24]\n",
    "print(remove(dupli))"
   ]
  },
  {
   "cell_type": "code",
   "execution_count": null,
   "metadata": {},
   "outputs": [],
   "source": []
  }
 ],
 "metadata": {
  "kernelspec": {
   "display_name": "Python 3",
   "language": "python",
   "name": "python3"
  },
  "language_info": {
   "codemirror_mode": {
    "name": "ipython",
    "version": 3
   },
   "file_extension": ".py",
   "mimetype": "text/x-python",
   "name": "python",
   "nbconvert_exporter": "python",
   "pygments_lexer": "ipython3",
   "version": "3.7.4"
  }
 },
 "nbformat": 4,
 "nbformat_minor": 2
}
